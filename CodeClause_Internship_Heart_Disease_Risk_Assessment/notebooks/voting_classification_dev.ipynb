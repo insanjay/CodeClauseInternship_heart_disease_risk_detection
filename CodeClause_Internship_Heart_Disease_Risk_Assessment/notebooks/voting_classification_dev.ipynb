{
 "cells": [
  {
   "cell_type": "markdown",
   "metadata": {},
   "source": [
    "# 1. Importing dependencies"
   ]
  },
  {
   "cell_type": "code",
   "execution_count": 2,
   "metadata": {},
   "outputs": [],
   "source": [
    "from sklearn.pipeline import Pipeline\n",
    "from sklearn.preprocessing import StandardScaler\n",
    "from sklearn.feature_selection import SelectKBest, f_classif\n",
    "from sklearn.decomposition import PCA\n",
    "from sklearn.linear_model import LogisticRegression\n",
    "from sklearn.ensemble import RandomForestClassifier, VotingClassifier\n",
    "from xgboost import XGBClassifier\n",
    "from sklearn.model_selection import train_test_split\n",
    "from sklearn.metrics import accuracy_score, classification_report\n",
    "import pandas as pd\n",
    "# Preprocessing pipeline (reused)\n",
    "preprocessor = Pipeline([\n",
    "    ('scaler', StandardScaler()),\n",
    "    ('select', SelectKBest(score_func=f_classif, k=10)),\n",
    "    ('pca', PCA(n_components=8))\n",
    "])\n"
   ]
  },
  {
   "cell_type": "code",
   "execution_count": 3,
   "metadata": {},
   "outputs": [],
   "source": [
    "df = pd.read_csv(r\"C:\\CodeClause_Internship_Heart_Disease_Risk_Assessment\\heart_train.csv\")  # Replace with your filename\n",
    "\n",
    "df.drop(columns=\"id\", axis=1, inplace=True)  # Drop the 'id' column\n",
    "# 🎯 3. Separate features and label\n",
    "X = df.drop(\"cardio\", axis=1)\n",
    "y = df[\"cardio\"]"
   ]
  },
  {
   "cell_type": "markdown",
   "metadata": {},
   "source": [
    "# 2. Split your cleaned data (after outlier handling, etc.)"
   ]
  },
  {
   "cell_type": "code",
   "execution_count": 4,
   "metadata": {},
   "outputs": [],
   "source": [
    "X = df.drop(columns='cardio')\n",
    "y = df['cardio']\n",
    "\n",
    "X_train, X_test, y_train, y_test = train_test_split(\n",
    "    X, y, test_size=0.2, random_state=42, stratify=y\n",
    ")\n"
   ]
  },
  {
   "cell_type": "markdown",
   "metadata": {},
   "source": [
    "# 3. Define all model pipelines"
   ]
  },
  {
   "cell_type": "code",
   "execution_count": 5,
   "metadata": {},
   "outputs": [],
   "source": [
    "# XGBoost\n",
    "xgb_pipe = Pipeline([\n",
    "    ('pre', preprocessor),\n",
    "    ('model', XGBClassifier(use_label_encoder=False, eval_metric='logloss'))\n",
    "])\n",
    "\n",
    "# Random Forest\n",
    "rf_pipe = Pipeline([\n",
    "    ('pre', preprocessor),\n",
    "    ('model', RandomForestClassifier())\n",
    "])\n",
    "\n",
    "# Logistic Regression\n",
    "logreg_pipe = Pipeline([\n",
    "    ('pre', preprocessor),\n",
    "    ('model', LogisticRegression(max_iter=1000))\n",
    "])\n"
   ]
  },
  {
   "cell_type": "markdown",
   "metadata": {},
   "source": [
    "# 4. Fit and Evaluate"
   ]
  },
  {
   "cell_type": "code",
   "execution_count": 6,
   "metadata": {},
   "outputs": [
    {
     "name": "stderr",
     "output_type": "stream",
     "text": [
      "c:\\CodeClause_Internship_Heart_Disease_Risk_Assessment\\myenv\\Lib\\site-packages\\xgboost\\training.py:183: UserWarning: [15:29:39] WARNING: C:\\actions-runner\\_work\\xgboost\\xgboost\\src\\learner.cc:738: \n",
      "Parameters: { \"use_label_encoder\" } are not used.\n",
      "\n",
      "  bst.update(dtrain, iteration=i, fobj=obj)\n"
     ]
    },
    {
     "name": "stdout",
     "output_type": "stream",
     "text": [
      "🔍 XGBoost Accuracy: 0.7194\n",
      "              precision    recall  f1-score   support\n",
      "\n",
      "           0       0.71      0.74      0.72      7004\n",
      "           1       0.73      0.70      0.71      6996\n",
      "\n",
      "    accuracy                           0.72     14000\n",
      "   macro avg       0.72      0.72      0.72     14000\n",
      "weighted avg       0.72      0.72      0.72     14000\n",
      "\n",
      "🔍 Random Forest Accuracy: 0.6989\n",
      "              precision    recall  f1-score   support\n",
      "\n",
      "           0       0.70      0.69      0.70      7004\n",
      "           1       0.70      0.70      0.70      6996\n",
      "\n",
      "    accuracy                           0.70     14000\n",
      "   macro avg       0.70      0.70      0.70     14000\n",
      "weighted avg       0.70      0.70      0.70     14000\n",
      "\n",
      "🔍 Logistic Regression Accuracy: 0.7105\n",
      "              precision    recall  f1-score   support\n",
      "\n",
      "           0       0.70      0.74      0.72      7004\n",
      "           1       0.73      0.68      0.70      6996\n",
      "\n",
      "    accuracy                           0.71     14000\n",
      "   macro avg       0.71      0.71      0.71     14000\n",
      "weighted avg       0.71      0.71      0.71     14000\n",
      "\n"
     ]
    }
   ],
   "source": [
    "def evaluate_model(name, pipeline):\n",
    "    pipeline.fit(X_train, y_train)\n",
    "    preds = pipeline.predict(X_test)\n",
    "    acc = accuracy_score(y_test, preds)\n",
    "    print(f\"🔍 {name} Accuracy: {acc:.4f}\")\n",
    "    print(classification_report(y_test, preds))\n",
    "    return pipeline\n",
    "\n",
    "xgb_model = evaluate_model(\"XGBoost\", xgb_pipe)\n",
    "rf_model = evaluate_model(\"Random Forest\", rf_pipe)\n",
    "logreg_model = evaluate_model(\"Logistic Regression\", logreg_pipe)\n"
   ]
  },
  {
   "cell_type": "markdown",
   "metadata": {},
   "source": [
    "# 5. Voting classifier"
   ]
  },
  {
   "cell_type": "code",
   "execution_count": 7,
   "metadata": {},
   "outputs": [
    {
     "name": "stderr",
     "output_type": "stream",
     "text": [
      "c:\\CodeClause_Internship_Heart_Disease_Risk_Assessment\\myenv\\Lib\\site-packages\\xgboost\\training.py:183: UserWarning: [15:31:20] WARNING: C:\\actions-runner\\_work\\xgboost\\xgboost\\src\\learner.cc:738: \n",
      "Parameters: { \"use_label_encoder\" } are not used.\n",
      "\n",
      "  bst.update(dtrain, iteration=i, fobj=obj)\n"
     ]
    },
    {
     "name": "stdout",
     "output_type": "stream",
     "text": [
      "🔍 Voting Classifier (Ensemble) Accuracy: 0.7175\n",
      "              precision    recall  f1-score   support\n",
      "\n",
      "           0       0.71      0.73      0.72      7004\n",
      "           1       0.72      0.71      0.71      6996\n",
      "\n",
      "    accuracy                           0.72     14000\n",
      "   macro avg       0.72      0.72      0.72     14000\n",
      "weighted avg       0.72      0.72      0.72     14000\n",
      "\n"
     ]
    }
   ],
   "source": [
    "voting_pipe = Pipeline([\n",
    "    ('pre', preprocessor),\n",
    "    ('voting', VotingClassifier(estimators=[\n",
    "        ('xgb', xgb_model.named_steps['model']),\n",
    "        ('rf', rf_model.named_steps['model']),\n",
    "        ('logreg', logreg_model.named_steps['model'])\n",
    "    ], voting='soft'))  # soft = uses probability\n",
    "])\n",
    "\n",
    "# Evaluate Ensemble\n",
    "voting_model = evaluate_model(\"Voting Classifier (Ensemble)\", voting_pipe)"
   ]
  },
  {
   "cell_type": "code",
   "execution_count": null,
   "metadata": {},
   "outputs": [],
   "source": []
  }
 ],
 "metadata": {
  "kernelspec": {
   "display_name": "myenv",
   "language": "python",
   "name": "python3"
  },
  "language_info": {
   "codemirror_mode": {
    "name": "ipython",
    "version": 3
   },
   "file_extension": ".py",
   "mimetype": "text/x-python",
   "name": "python",
   "nbconvert_exporter": "python",
   "pygments_lexer": "ipython3",
   "version": "3.12.8"
  }
 },
 "nbformat": 4,
 "nbformat_minor": 2
}
